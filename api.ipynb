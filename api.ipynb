{
 "cells": [
  {
   "cell_type": "code",
   "execution_count": null,
   "metadata": {},
   "outputs": [],
   "source": [
    "import requests"
   ]
  },
  {
   "cell_type": "code",
   "execution_count": null,
   "metadata": {},
   "outputs": [],
   "source": [
    "# Get categories\n",
    "response = requests.get(\"https://api.cs50.io/dining/categories\")\n",
    "\n",
    "# Convert JSON to list of dicts\n",
    "categories = response.json()\n",
    "\n",
    "# Print each category's name\n",
    "for category in categories:\n",
    "    print(category[\"name\"])"
   ]
  },
  {
   "cell_type": "code",
   "execution_count": null,
   "metadata": {},
   "outputs": [],
   "source": [
    "# Get category\n",
    "response = requests.get(\"https://api.cs50.io/dining/categories/32\")\n",
    "\n",
    "# Convert JSON to dict\n",
    "category = response.json()\n",
    "category "
   ]
  },
  {
   "cell_type": "code",
   "execution_count": null,
   "metadata": {},
   "outputs": [],
   "source": [
    "# Get locations\n",
    "response = requests.get(\"https://api.cs50.io/dining/locations\")\n",
    "\n",
    "# Convert JSON to list of dicts\n",
    "locations = response.json()\n",
    "\n",
    "# Print each location's name\n",
    "for location in locations:\n",
    "    print(location[\"name\"], location[\"id\"])"
   ]
  },
  {
   "cell_type": "code",
   "execution_count": null,
   "metadata": {},
   "outputs": [],
   "source": [
    "# Get Annenberg Hall's lunch menu for \n",
    "response = requests.get(\"https://api.cs50.io/dining/menus\", {\"date\": \"2023-04-17\", \"location\": 8, \"meal\": 1})\n",
    "\n",
    "# Convert JSON to list of dicts\n",
    "menu = response.json()\n",
    "\n",
    "# Print number of recipes on menu\n",
    "menu"
   ]
  },
  {
   "cell_type": "code",
   "execution_count": null,
   "metadata": {},
   "outputs": [],
   "source": [
    "# Get recipe\n",
    "response = requests.get(\"https://api.cs50.io/dining/recipes/213052\")\n",
    "\n",
    "# Convert JSON to dict\n",
    "recipe = response.json()\n",
    "\n",
    "# Print recipe's name\n",
    "print(recipe[\"name\"])"
   ]
  }
 ],
 "metadata": {
  "kernelspec": {
   "display_name": "Python 3",
   "language": "python",
   "name": "python3"
  },
  "language_info": {
   "codemirror_mode": {
    "name": "ipython",
    "version": 3
   },
   "file_extension": ".py",
   "mimetype": "text/x-python",
   "name": "python",
   "nbconvert_exporter": "python",
   "pygments_lexer": "ipython3",
   "version": "3.8.9"
  },
  "orig_nbformat": 4
 },
 "nbformat": 4,
 "nbformat_minor": 2
}
