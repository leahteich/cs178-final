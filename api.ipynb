{
 "cells": [
  {
   "cell_type": "code",
   "execution_count": 7,
   "metadata": {},
   "outputs": [],
   "source": [
    "import requests\n",
    "from categories import recipes"
   ]
  },
  {
   "cell_type": "code",
   "execution_count": 28,
   "metadata": {},
   "outputs": [
    {
     "name": "stdout",
     "output_type": "stream",
     "text": [
      "[[98, 'Can of Coke'], [98, 'Can of Diet Coke'], [87, 'Bagel Plain'], [96, 'Pretzel Twists'], [96, 'Yogurt, Greek Plain'], [98, 'Can Sprite'], [87, 'Bagel Wheat'], [87, 'Bread, Hearty Wheat'], [87, 'Cage Free Hard Boiled Eggs'], [87, 'Gluten free Cereal'], [87, 'Hemp Granola'], [87, 'Pastry Of The DAY'], [87, 'Quaker Instant Oatmeal Cups'], [91, 'Grilled Chicken Wrap on Wheat'], [91, 'Ham & Swiss on Hearty Wheat'], [91, 'Hummus & Tabbouleh Wheat Wrap'], [91, 'Mozzarella, Tomato & Basil Wrap'], [91, \"Teddy's Peanut Butter & Grape Jelly on Wheat\"], [91, 'Tuna Salad in a Spinach Wrap'], [91, 'Turkey & Cheddar on Wheat'], [92, 'Black Bean Taco Salad'], [92, 'Caesar Salad'], [92, 'Chicken Caesar Salad'], [93, 'Homemade Tuna Salad'], [93, 'Roasted Low-Sodium Turkey'], [93, 'Sliced Ham'], [94, 'Bread, Hearty Wheat'], [94, 'Gluten Free Multi Grain Bread'], [94, 'Gluten Free White Bread'], [94, 'Hearty White Bread'], [94, 'Wheat Tortillas'], [95, 'Cheddar Cheese'], [95, 'Sliced White American Cheese'], [95, 'Swiss Cheese'], [96, 'Chips, Cape Cod'], [96, 'Daily Baked Cookie'], [96, 'Fruit, Bananas'], [96, 'Fruit, Local Apples'], [96, 'Fruit, Oranges'], [96, 'Gluten Free Chocolate Chip Cookies'], [96, 'Peeled Baby Carrots'], [96, 'Penne Primavera Salad'], [97, 'All Natural Peanut Butter'], [97, 'Butter'], [97, 'Cream Cheese Packets Asst.'], [97, 'Grape Preserves'], [97, 'Mayonnaise packets'], [97, 'Mustard packets'], [98, '1% Milk 8z'], [98, 'Chocolate Oat Milk'], [98, 'Chocolate milk 8 oz.'], [98, 'Diet Sprite Zero 20 z'], [98, 'Oat Milk Individual'], [98, 'Poland Spring Sprk Lime Water'], [98, 'Skim milk 8 oz.'], [98, 'Tropicana Orange Juice 10z'], [98, 'Water Alum Can 12oz'], [5, 'Assorted Bagels'], [2, 'Blueberries'], [2, 'Cage Free Hard Boiled Eggs'], [2, 'Chia Pudding with Oat Milk'], [2, 'Hard Cooked Eggs - Cage Free'], [2, 'Steel Cut Oatmeal'], [2, 'Strawberries'], [3, 'Assorted Mini Danish'], [5, 'Bagel Wheat'], [10, 'Avocado'], [10, 'Fresh Fruit Salad'], [10, 'Hummus'], [23, 'Blueberries'], [23, 'Malted Belgian Waffles'], [23, 'Multi-Grain Waffles'], [23, 'Pancake Syrup'], [23, 'Strawberries'], [23, 'Whipped Topping'], [24, 'Chobani Low fat Plain Greek Yogurt'], [24, 'Grape Preserves'], [24, 'Hemp Granola'], [24, 'Plain Soy Yogurt'], [24, 'Strawberry Nonfat Greek Yogurt'], [24, 'Strawberry Preserves'], [24, 'Sun Butter'], [32, 'Fruit, Bananas'], [32, 'Fruit, Local Apples'], [32, 'Fruit, Oranges'], [32, 'Seasonal Hand Fruit'], [1, 'Pork Sausage Pattie'], [2, 'French Toast'], [2, 'Scrambled Cage Free Eggs'], [2, 'Tofu Scramble'], [3, 'Corn Muffin'], [4, 'Pancake Syrup'], [14, 'Home Fried Potatoes'], [23, 'Steel Cut Oatmeal'], [24, 'Chobani Nonfat Vanilla Greek Yogurt'], [24, 'Grandy Oats Granola'], [32, 'Fruit, Grapefruit'], [85, 'Coke - Each Can'], [10, 'Goat Cheese'], [77, 'Cereal Assortment'], [85, 'BV SODA CAN COKE DIET'], [85, 'Apple Juice'], [10, 'Green Beans'], [10, 'Pumpkin Seeds'], [10, 'Roasted Beets'], [10, 'Sweet Roasted Potatoes'], [65, 'Bagel Cinnamon Raisin'], [65, 'Bagel Wheat'], [65, 'LaRonga, Bagel - Everything'], [65, 'LaRonga, Bagel - Poppy Seed'], [65, 'Plain Bagel'], [81, 'Light Cream Cheese'], [83, 'Blueberry Yogurt'], [83, 'Chobani Blueberry Greek Yogurt'], [83, 'Chobani Plain Yogurt'], [83, 'Peach Yogurt'], [83, 'Peanut Butter Spread'], [84, 'BBQ Sauce'], [84, 'Balsamic Vinaigrette'], [84, 'Blue Cheese Dressing'], [84, 'Caesar Dressing'], [84, 'Greek Dressing'], [84, 'Honey Mustard Dressing'], [84, 'Italian Vinaigrette Dressing'], [84, 'Ranch Dressing'], [84, 'Raspberry Vinaigrette'], [85, 'Chocolate Oat Milk'], [85, 'Ginger Ale - Each Can'], [85, 'Homogenized Milk 8z'], [85, 'Oat Milk Individual'], [85, 'Plain Soy Milk'], [85, 'Sparkling Poland Springs Water per person'], [85, 'Sprite Zero - Each Can'], [85, 'Tropicana Cranberry Juice 10z'], [85, 'Tropicana Orange Juice 10z']]\n"
     ]
    }
   ],
   "source": [
    "response_breakfast = requests.get(\"https://api.cs50.io/dining/menus\", {\"date\": \"2023-05-02\", \"location\": 8, \"meal\": 0})\n",
    "menu_breakfast = response_breakfast.json()\n",
    "\n",
    "menu_items_breakfast = []\n",
    "\n",
    "for item in menu_breakfast: \n",
    "    if item['recipe'] in recipes: \n",
    "        recipe = recipes[item['recipe']]\n",
    "    recipe['category'] = item['category']\n",
    "    menu_items_breakfast.append([recipe['category'], recipe['name']])\n",
    "\n",
    "print(menu_items_breakfast)"
   ]
  },
  {
   "cell_type": "code",
   "execution_count": null,
   "metadata": {},
   "outputs": [],
   "source": [
    "# Get category\n",
    "response = requests.get(\"https://api.cs50.io/dining/categories/32\")\n",
    "\n",
    "# Convert JSON to dict\n",
    "category = response.json()\n",
    "category "
   ]
  },
  {
   "cell_type": "code",
   "execution_count": null,
   "metadata": {},
   "outputs": [],
   "source": [
    "# Get locations\n",
    "response = requests.get(\"https://api.cs50.io/dining/locations\")\n",
    "\n",
    "# Convert JSON to list of dicts\n",
    "locations = response.json()\n",
    "\n",
    "# Print each location's name\n",
    "for location in locations:\n",
    "    print(location[\"name\"], location[\"id\"])"
   ]
  },
  {
   "cell_type": "code",
   "execution_count": null,
   "metadata": {},
   "outputs": [],
   "source": [
    "# Get Annenberg Hall's lunch menu for \n",
    "response = requests.get(\"https://api.cs50.io/dining/menus\", {\"date\": \"2023-04-17\", \"location\": 8, \"meal\": 1})\n",
    "\n",
    "# Convert JSON to list of dicts\n",
    "menu = response.json()\n",
    "\n",
    "# Print number of recipes on menu\n",
    "menu"
   ]
  },
  {
   "cell_type": "code",
   "execution_count": null,
   "metadata": {},
   "outputs": [],
   "source": [
    "# Get recipe\n",
    "response = requests.get(\"https://api.cs50.io/dining/recipes/213052\")\n",
    "\n",
    "# Convert JSON to dict\n",
    "recipe = response.json()\n",
    "\n",
    "# Print recipe's name\n",
    "print(recipe[\"name\"])"
   ]
  }
 ],
 "metadata": {
  "kernelspec": {
   "display_name": "Python 3",
   "language": "python",
   "name": "python3"
  },
  "language_info": {
   "codemirror_mode": {
    "name": "ipython",
    "version": 3
   },
   "file_extension": ".py",
   "mimetype": "text/x-python",
   "name": "python",
   "nbconvert_exporter": "python",
   "pygments_lexer": "ipython3",
   "version": "3.8.9"
  },
  "orig_nbformat": 4
 },
 "nbformat": 4,
 "nbformat_minor": 2
}
